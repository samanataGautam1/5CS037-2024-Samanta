{
 "cells": [
  {
   "cell_type": "code",
   "execution_count": 4,
   "id": "6ae9deba-1dbe-47c1-80f4-96fc223823f4",
   "metadata": {},
   "outputs": [
    {
     "name": "stdout",
     "output_type": "stream",
     "text": [
      "Cold temperatures: [1, 5, 8]\n",
      "Mild temperatures: [11, 12, 15]\n",
      "Comfortable temperatures: [17, 19]\n"
     ]
    }
   ],
   "source": [
    "#Task-1:\n",
    "cold=[]\n",
    "comfortable=[]\n",
    "mild=[]\n",
    "#lists of temperature\n",
    "temp= [1,5,8,11,12,15,17,19]\n",
    "for temperature in temp:\n",
    "    if temperature <10:\n",
    "        cold.append(temperature)\n",
    "    elif temperature >15 & temperature <=20:\n",
    "        comfortable.append(temperature)\n",
    "    elif temperature >=10 & temperature <=15:\n",
    "        mild.append(temperature)\n",
    "print(\"Cold temperatures:\", cold)\n",
    "print(\"Mild temperatures:\", mild)\n",
    "print(\"Comfortable temperatures:\", comfortable)\n",
    "\n",
    "\n"
   ]
  },
  {
   "cell_type": "code",
   "execution_count": 1,
   "id": "8393a3da-defb-43ff-8907-74bddfcabaf8",
   "metadata": {},
   "outputs": [
    {
     "name": "stdout",
     "output_type": "stream",
     "text": [
      "It was cold for 3 times\n",
      "It was mild for 3 times\n",
      "It was comfortable for 2 times\n"
     ]
    }
   ],
   "source": [
    "#task-2\n",
    "cold=[]\n",
    "comfortable=[]\n",
    "mild=[]\n",
    "#lists of temperature\n",
    "temp= [1,5,8,11,12,15,17,19]\n",
    "for temperature in temp:\n",
    "    if temperature <10:\n",
    "        cold.append(temperature)\n",
    "    elif temperature >15 and temperature <=20:\n",
    "        comfortable.append(temperature)\n",
    "    elif temperature >=10 and temperature <=15:\n",
    "        mild.append(temperature)\n",
    "count1= len(cold)\n",
    "print(\"It was cold for\",count1,\"times\")\n",
    "count2= len(mild)\n",
    "print(\"It was mild for\",count2,\"times\")\n",
    "count3= len(comfortable)\n",
    "print(\"It was comfortable for\",count3,\"times\")\n"
   ]
  },
  {
   "cell_type": "code",
   "execution_count": 7,
   "id": "cda640d9-04f8-471a-92b9-ea30b8138eaa",
   "metadata": {},
   "outputs": [
    {
     "name": "stdout",
     "output_type": "stream",
     "text": [
      "The celcius degree converted in fahrenheit degree is: [93.2, 152.6, 50.0, 86.0]\n"
     ]
    }
   ],
   "source": [
    "#task-3\n",
    "temperatures_fahrenheit=[]\n",
    "temp=[34,67,10,30]\n",
    "for temperature in temp:\n",
    "    F= (temperature*9/5)+32\n",
    "    temperatures_fahrenheit.append(F)\n",
    "    \n",
    "print(\"The celcius degree converted in fahrenheit degree is:\", temperatures_fahrenheit)\n",
    "\n"
   ]
  },
  {
   "cell_type": "code",
   "execution_count": 34,
   "id": "9cc8c675-119f-4778-99d6-bde2360d7e8b",
   "metadata": {},
   "outputs": [
    {
     "name": "stdout",
     "output_type": "stream",
     "text": [
      "Day temperatures: [17, 16, 18, 19, 23]\n",
      "Night temperatures: [1, 5, 0]\n",
      "Evening temperatures: [8, 11, 12, 15]\n",
      "The Average of Day-temperature is: 18.6\n"
     ]
    }
   ],
   "source": [
    "#task-4\n",
    "day=[]\n",
    "night=[]\n",
    "evening=[]\n",
    "s=0\n",
    "#lists of temperature\n",
    "temp= [1,5,8,11,12,15,17,16,18,19,23,0]\n",
    "for temperature in temp:\n",
    "    if temperature >=16 and temperature <24:\n",
    "        day.append(temperature)\n",
    "    elif temperature<8:\n",
    "        night.append(temperature)\n",
    "    elif temperature>=8 and temperature<16:\n",
    "        evening.append(temperature)\n",
    "    \n",
    "print(\"Day temperatures:\", day)\n",
    "print(\"Night temperatures:\", night)\n",
    "print(\"Evening temperatures:\", evening)\n",
    "\n",
    "for lis in day:\n",
    "    s+=lis\n",
    "    Average= s/len(day)\n",
    "print(\"The Average of Day-temperature is:\", Average)\n",
    "    \n",
    "\n",
    "    \n",
    "\n",
    "        \n",
    "\n"
   ]
  },
  {
   "cell_type": "code",
   "execution_count": 8,
   "id": "a7f086da-0657-4d91-a52a-18714e8c88bb",
   "metadata": {},
   "outputs": [
    {
     "name": "stdout",
     "output_type": "stream",
     "text": [
      "48\n",
      "62\n"
     ]
    }
   ],
   "source": [
    "#task-5\n",
    "def sum_nested_list(nested_list):\n",
    "    total =0\n",
    "    for element in nested_list:\n",
    "       if isinstance(element, list): \n",
    "         total += sum_nested_list(element) \n",
    "       else:\n",
    "        total += element \n",
    "    return total\n",
    "\n",
    "print(sum_nested_list([6, [8, [9, 7], 9], 0, [2, 7]])) \n",
    "print(sum_nested_list([10, [6, 9], [5,8, [7,8,9]]])) \n",
    " \n",
    "    "
   ]
  },
  {
   "cell_type": "code",
   "execution_count": 16,
   "id": "f7fe45ac-338f-4e3c-8371-77b7724d7d10",
   "metadata": {},
   "outputs": [
    {
     "name": "stdout",
     "output_type": "stream",
     "text": [
      "['abc', 'cba', 'cab', 'acb', 'bca', 'bac']\n"
     ]
    }
   ],
   "source": [
    "#task-6\n",
    "def generate_permutations(s):\n",
    "    if len(s) <= 1:\n",
    "        return(s)\n",
    "    my_lis = []\n",
    "    for i, char in enumerate(s):\n",
    "       remaining = s[:i] + s[i+1:]\n",
    "       for permutation in generate_permutations(remaining):\n",
    "            my_lis.append(char + permutation)\n",
    "    return list(set(my_lis))\n",
    "\n",
    "\n",
    "print(generate_permutations(\"abc\")) \n"
   ]
  },
  {
   "cell_type": "code",
   "execution_count": null,
   "id": "f18f2e10-1dc3-44f8-a22a-65c78b140b19",
   "metadata": {},
   "outputs": [],
   "source": [
    "#task-7\n",
    "def calculate_directory_size(directory):"
   ]
  }
 ],
 "metadata": {
  "kernelspec": {
   "display_name": "Python 3 (ipykernel)",
   "language": "python",
   "name": "python3"
  },
  "language_info": {
   "codemirror_mode": {
    "name": "ipython",
    "version": 3
   },
   "file_extension": ".py",
   "mimetype": "text/x-python",
   "name": "python",
   "nbconvert_exporter": "python",
   "pygments_lexer": "ipython3",
   "version": "3.13.0"
  }
 },
 "nbformat": 4,
 "nbformat_minor": 5
}
